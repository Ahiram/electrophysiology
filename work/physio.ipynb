{
 "cells": [
  {
   "cell_type": "code",
   "execution_count": 1,
   "metadata": {},
   "outputs": [
    {
     "data": {
      "text/html": [
       "<style>.container { width:100% !important; }</style>"
      ],
      "text/plain": [
       "<IPython.core.display.HTML object>"
      ]
     },
     "metadata": {},
     "output_type": "display_data"
    }
   ],
   "source": [
    "from IPython.core.display import display, HTML \n",
    "display(HTML(\"<style>.container { width:100% !important; }</style>\")) \n",
    "#import cv2\n",
    "import matplotlib.pyplot as plt\n",
    "import os\n",
    "import numpy as np\n",
    "import csv\n",
    "import copy\n",
    "import time\n",
    "import datetime\n",
    "from pylab import rcParams\n",
    "#%matplotlib notebook\n",
    "%config InlineBackend.figure_format = 'retina'\n",
    "rcParams['figure.figsize'] = 10,10\n",
    "#from tqdm import tqdm\n",
    "%config IPCompleter.greedy=False\n",
    "from PIL import Image, ImageOps\n",
    "#from tqdm import tqdm\n",
    "from statistics import mean, median,variance,stdev\n",
    "from scipy import stats\n",
    "import pandas as pd\n",
    "import seaborn as sns \n",
    "%matplotlib inline"
   ]
  },
  {
   "cell_type": "code",
   "execution_count": null,
   "metadata": {},
   "outputs": [],
   "source": [
    "class Cell():\n",
    "    def __init__(self):\n",
    "        self.Em = Em\n",
    "        self.Rm = Rm\n",
    "        self.Re = Re\n",
    "        self.Rin = Rin\n",
    "        self.Rv = Rv\n",
    "        self.Cm = Cm\n",
    "        self.Rl = Rl\n",
    "    def cellmodel(D_Iin,I_Iin,A_Iin,Em0):\n",
    "        # D_Iin, I_Iin, A_Iin = duration[ms], interval[ms], amplitude[] of input current\n",
    "        self.D_Iin = D_Iin\n",
    "        self.I_Iin = I_Iin\n",
    "        self.A_Iin = A_Iin\n",
    "        self.Em0 = Em0\n",
    "        Em = np.zeros(len(D_Iin+I_Iin*2))\n",
    "        for i in range(len(D_Iin+I_Iin*2)):\n",
    "            Em[i] = Iin[i]*Rl-(Iin[i]*Rl-Em0)"
   ]
  },
  {
   "cell_type": "code",
   "execution_count": 2,
   "metadata": {},
   "outputs": [],
   "source": [
    "A=np.zeros(1)"
   ]
  },
  {
   "cell_type": "code",
   "execution_count": 11,
   "metadata": {},
   "outputs": [
    {
     "data": {
      "text/plain": [
       "numpy.ndarray"
      ]
     },
     "execution_count": 11,
     "metadata": {},
     "output_type": "execute_result"
    }
   ],
   "source": [
    "type(A)"
   ]
  },
  {
   "cell_type": "code",
   "execution_count": 3,
   "metadata": {},
   "outputs": [
    {
     "name": "stdout",
     "output_type": "stream",
     "text": [
      "Variable   Type        Data/Info\n",
      "--------------------------------\n",
      "A          ndarray     1: 1 elems, type `float64`, 8 bytes\n",
      "HTML       type        <class 'IPython.core.display.HTML'>\n",
      "Image      module      <module 'PIL.Image' from <...>e-packages/PIL/Image.py'>\n",
      "ImageOps   module      <module 'PIL.ImageOps' fr<...>ackages/PIL/ImageOps.py'>\n",
      "copy       module      <module 'copy' from '/opt<...>a/lib/python3.8/copy.py'>\n",
      "csv        module      <module 'csv' from '/opt/<...>da/lib/python3.8/csv.py'>\n",
      "datetime   module      <module 'datetime' from '<...>b/python3.8/datetime.py'>\n",
      "display    function    <function display at 0x7fe626a70670>\n",
      "mean       function    <function mean at 0x7fe606e8fc10>\n",
      "median     function    <function median at 0x7fe606e8fe50>\n",
      "np         module      <module 'numpy' from '/op<...>kages/numpy/__init__.py'>\n",
      "os         module      <module 'os' from '/opt/c<...>nda/lib/python3.8/os.py'>\n",
      "pd         module      <module 'pandas' from '/o<...>ages/pandas/__init__.py'>\n",
      "plt        module      <module 'matplotlib.pyplo<...>es/matplotlib/pyplot.py'>\n",
      "rcParams   RcParams    _internal.classic_mode: F<...>: 0.6\\nytick.right: False\n",
      "sns        module      <module 'seaborn' from '/<...>ges/seaborn/__init__.py'>\n",
      "stats      module      <module 'scipy.stats' fro<...>scipy/stats/__init__.py'>\n",
      "stdev      function    <function stdev at 0x7fe606e8d430>\n",
      "time       module      <module 'time' (built-in)>\n",
      "variance   function    <function variance at 0x7fe606e8d310>\n"
     ]
    }
   ],
   "source": [
    "%whos"
   ]
  },
  {
   "cell_type": "code",
   "execution_count": null,
   "metadata": {},
   "outputs": [],
   "source": []
  }
 ],
 "metadata": {
  "kernelspec": {
   "display_name": "Python 3",
   "language": "python",
   "name": "python3"
  },
  "language_info": {
   "codemirror_mode": {
    "name": "ipython",
    "version": 3
   },
   "file_extension": ".py",
   "mimetype": "text/x-python",
   "name": "python",
   "nbconvert_exporter": "python",
   "pygments_lexer": "ipython3",
   "version": "3.8.6"
  }
 },
 "nbformat": 4,
 "nbformat_minor": 4
}
